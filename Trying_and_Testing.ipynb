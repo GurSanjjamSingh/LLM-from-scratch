{
 "cells": [
  {
   "cell_type": "markdown",
   "id": "34762b61-a31d-41d2-b66d-9b4a92a4414e",
   "metadata": {},
   "source": [
    "# opening and reading the file"
   ]
  },
  {
   "cell_type": "code",
   "execution_count": 1,
   "id": "2bf83473-1a4a-40c9-a80a-ce2f084995e5",
   "metadata": {},
   "outputs": [
    {
     "name": "stdout",
     "output_type": "stream",
     "text": [
      "20479\n",
      "I HAD always thought Jack Gisburn rather a cheap genius--though a good fellow enough--so it was no \n"
     ]
    }
   ],
   "source": [
    "with open('the-verdict.txt', 'r', encoding = 'utf-8') as f:\n",
    "    raw_text = f.read()\n",
    "\n",
    "print(len(raw_text))\n",
    "print(raw_text[:99])"
   ]
  },
  {
   "cell_type": "markdown",
   "id": "22e0930f-a3ac-4b8a-98d2-22d3c454f15e",
   "metadata": {},
   "source": [
    "# creating tokenizer"
   ]
  },
  {
   "cell_type": "markdown",
   "id": "fefe1caa-5c3c-4948-bfef-1992cd82bbce",
   "metadata": {},
   "source": [
    "### splitting the text where white spaces"
   ]
  },
  {
   "cell_type": "code",
   "execution_count": 2,
   "id": "ce0227d7-e318-4435-9631-9ae23b055080",
   "metadata": {},
   "outputs": [
    {
     "name": "stdout",
     "output_type": "stream",
     "text": [
      "['Hello', ' ', 'World', ',', '', ' ', 'this', ' ', 'is', ' ', 'a', ' ', 'test']\n"
     ]
    }
   ],
   "source": [
    "import re\n",
    "\n",
    "text = \"Hello World, this is a test\"\n",
    "result = re.split(r'([,.:;?!\"()\\']|--|\\s)', text)            #() around r'\\s' here acts as container for white spaces.\n",
    "\n",
    "print(result)"
   ]
  },
  {
   "cell_type": "markdown",
   "id": "c91cc62f-bcb1-4d3d-b346-d56fc8b82c26",
   "metadata": {},
   "source": [
    "### getting rid of white spaces"
   ]
  },
  {
   "cell_type": "code",
   "execution_count": 3,
   "id": "64415efd-fc74-4dd3-a392-a4cc30641393",
   "metadata": {},
   "outputs": [
    {
     "name": "stdout",
     "output_type": "stream",
     "text": [
      "['Hello', 'World', ',', 'this', 'is', 'a', 'test']\n"
     ]
    }
   ],
   "source": [
    "result = [item for item in result if item.strip()]\n",
    "print(result)"
   ]
  },
  {
   "cell_type": "code",
   "execution_count": 4,
   "id": "bbb8a1b2-9be7-4b8a-a609-5e53874a0eeb",
   "metadata": {},
   "outputs": [],
   "source": [
    "preprocessed = re.split(r'(\\s|[.,:;?!\\\"()\\[\\]{}\\-])', raw_text)\n",
    "preprocessed = [item.strip() for item in preprocessed if item and item.strip()] #added item only for handling any null values by chance"
   ]
  },
  {
   "cell_type": "code",
   "execution_count": 5,
   "id": "6c2cb6f0-6776-4204-8cf4-7eb9b5e9c666",
   "metadata": {},
   "outputs": [
    {
     "data": {
      "text/plain": [
       "['I', 'HAD', 'always', 'thought', 'Jack']"
      ]
     },
     "execution_count": 5,
     "metadata": {},
     "output_type": "execute_result"
    }
   ],
   "source": [
    "preprocessed[:5]"
   ]
  },
  {
   "cell_type": "markdown",
   "id": "fb1ad005-adef-4209-ac98-6ea8966338e7",
   "metadata": {},
   "source": [
    "# creating token IDs"
   ]
  },
  {
   "cell_type": "markdown",
   "id": "dcfe0960-6d7e-4607-a429-f66fb58ff62b",
   "metadata": {},
   "source": [
    "### creating a set of unique words"
   ]
  },
  {
   "cell_type": "code",
   "execution_count": 6,
   "id": "065a0d6f-ee61-4042-a2e0-d463fbb70eec",
   "metadata": {},
   "outputs": [
    {
     "name": "stdout",
     "output_type": "stream",
     "text": [
      "['dragged', 'drawing', 'drawn', 'dress', 'drew', 'dropped']\n"
     ]
    }
   ],
   "source": [
    "all_words = sorted(set(preprocessed))\n",
    "vocab_size = len(all_words)\n",
    "\n",
    "print(all_words[400:406])"
   ]
  },
  {
   "cell_type": "markdown",
   "id": "e95c61c5-ef41-469d-8f21-62c6c26a8695",
   "metadata": {},
   "source": [
    "### assigning token id to each token i.e. unique token"
   ]
  },
  {
   "cell_type": "code",
   "execution_count": 7,
   "id": "2e57e585-e838-4727-b053-41cfe01a3ca2",
   "metadata": {},
   "outputs": [],
   "source": [
    "vocab = {token:integer for integer, token in enumerate(all_words)}"
   ]
  },
  {
   "cell_type": "code",
   "execution_count": 8,
   "id": "971fc6c1-5c2c-4871-9678-6b14135b4986",
   "metadata": {},
   "outputs": [
    {
     "name": "stdout",
     "output_type": "stream",
     "text": [
      "0 ('!', 0)\n",
      "1 ('\"', 1)\n",
      "2 (\"'\", 2)\n",
      "3 (\"'Are\", 3)\n",
      "4 (\"'It's\", 4)\n",
      "5 (\"'coming'\", 5)\n",
      "6 (\"'done'\", 6)\n",
      "7 (\"'subject\", 7)\n",
      "8 (\"'technique'\", 8)\n",
      "9 (\"'way\", 9)\n",
      "10 ('(', 10)\n",
      "11 (')', 11)\n",
      "12 (',', 12)\n",
      "13 ('-', 13)\n",
      "14 ('.', 14)\n",
      "15 (':', 15)\n"
     ]
    }
   ],
   "source": [
    "for token, token_id in enumerate(vocab.items()):\n",
    "    print(token, token_id)\n",
    "    if token == 15:\n",
    "        break"
   ]
  },
  {
   "cell_type": "code",
   "execution_count": 9,
   "id": "e75b8c42-6b10-4eba-ba9c-a874531fdafc",
   "metadata": {},
   "outputs": [],
   "source": [
    "class SimpleTokenizerV1:\n",
    "\n",
    "    def __init__(self, vocab):\n",
    "        \"\"\"\n",
    "        it takes self, and vocab(our dictionary of tokens and token ids)\n",
    "        then it creates to two variables inside the object\n",
    "        that are:- str_to_int and int_to_str, what we store in them is the following.\n",
    "        self.str_to_int = vocab #basically storing the token:id pair here, used for encoding\n",
    "        also, \n",
    "        self.int_to_str = {i:s for s, i in vocab.items()}\n",
    "        \"\"\"\n",
    "        self.str_to_int = vocab\n",
    "        self.int_to_str = {i:s for s,i in vocab.items()}\n",
    "\n",
    "    \n",
    "    def encode(self, text):\n",
    "        \"\"\"\n",
    "        it takes self and text as parameters, it takes the text and separates it on the basis of tokens(smallest elements)\n",
    "        strips it off any white spaces.\n",
    "        when tokens are created, we assign token ids to the tokens\n",
    "        we use re.split() for separating the elements / creating tokens\n",
    "        we use re.strip() to remove white spaces from the text\n",
    "        to assign token value we use dictionary, for which we can use str_to_int variable.\n",
    "        we return the ids.\n",
    "        \"\"\"\n",
    "        preprocessed = re.findall(r'<\\|[^|]+?\\|>|\\w+|[^\\w\\s]', text)\n",
    "\n",
    "        preprocessed = [\n",
    "            item.strip() for item in preprocessed if item.strip()\n",
    "        ]\n",
    "\n",
    "        preprocessed = [\n",
    "            item if item in self.str_to_int         #new code that checks if any word is from outside the vocab and assigns \"<|unk|>\"\n",
    "            else \"<|unk|>\" for item in preprocessed\n",
    "        ]\n",
    "        \n",
    "        ids = [self.str_to_int[s] for s in preprocessed]\n",
    "        return ids\n",
    "\n",
    "    def decode(self, ids):\n",
    "        \"\"\"\n",
    "        we have encoded i.e. tokenized data, numerical data or token id.\n",
    "        we need to create words back from it simply.\n",
    "        for that we need int_to_str variable.\n",
    "        also we need \" \".join() to join them along, because they were split.\n",
    "        where are the words -> [self.int_to_str[i] for i in ids]\n",
    "        we used re.split() method to separate them, now we need   re.sub() method to join them.\n",
    "        \"\"\"\n",
    "        text = \" \".join([self.int_to_str[i] for i in ids])\n",
    "        text = re.sub(r'\\s+([.,:;?!\\\"()\\[\\]{}\\-])', r'\\1', text)\n",
    "        return text\n"
   ]
  },
  {
   "cell_type": "code",
   "execution_count": 10,
   "id": "02e3c715-3f57-4f51-9576-b62c691359c8",
   "metadata": {},
   "outputs": [
    {
     "name": "stdout",
     "output_type": "stream",
     "text": [
      "[396, 985]\n"
     ]
    }
   ],
   "source": [
    "tokenizer = SimpleTokenizerV1(vocab)\n",
    "\n",
    "text = \"done subject\"\n",
    "ids = tokenizer.encode(text)\n",
    "print(ids)"
   ]
  },
  {
   "cell_type": "code",
   "execution_count": 11,
   "id": "6332b42f-4bf5-4464-88f0-563f8c058593",
   "metadata": {},
   "outputs": [
    {
     "name": "stdout",
     "output_type": "stream",
     "text": [
      "done subject\n"
     ]
    }
   ],
   "source": [
    "tokenizer = SimpleTokenizerV1(vocab)\n",
    "\n",
    "ids = [396, 985]\n",
    "text = tokenizer.decode(ids)\n",
    "print(text)"
   ]
  },
  {
   "cell_type": "markdown",
   "id": "79f952a5-40a1-4e5d-a1a0-daed2ba30bf1",
   "metadata": {},
   "source": [
    "# New Tokens- Special Context Tokens"
   ]
  },
  {
   "cell_type": "code",
   "execution_count": 12,
   "id": "1dc51d0e-0448-4815-80ca-31cfcbd36b37",
   "metadata": {},
   "outputs": [
    {
     "name": "stdout",
     "output_type": "stream",
     "text": [
      "1172\n"
     ]
    }
   ],
   "source": [
    "print(len(all_words))\n",
    "all_words.extend([\"<|endoftext|>\", \"<|unk|>\"])\n",
    "vocab = {token : token_id for token_id, token in enumerate(all_words)}"
   ]
  },
  {
   "cell_type": "code",
   "execution_count": 13,
   "id": "389af6a7-9d06-4ff7-9aa1-ccf49c34f51c",
   "metadata": {},
   "outputs": [
    {
     "data": {
      "text/plain": [
       "1174"
      ]
     },
     "execution_count": 13,
     "metadata": {},
     "output_type": "execute_result"
    }
   ],
   "source": [
    "len(all_words)"
   ]
  },
  {
   "cell_type": "code",
   "execution_count": 14,
   "id": "20410153-2d74-4cd6-a9ba-bda2676cd17b",
   "metadata": {},
   "outputs": [
    {
     "name": "stdout",
     "output_type": "stream",
     "text": [
      "('<|endoftext|>', 1172)\n",
      "('<|unk|>', 1173)\n"
     ]
    }
   ],
   "source": [
    "print(list(vocab.items())[-2])\n",
    "print(list(vocab.items())[-1])"
   ]
  },
  {
   "cell_type": "code",
   "execution_count": 15,
   "id": "c959ff2b-5ff8-47ac-9bd5-9e8974949971",
   "metadata": {},
   "outputs": [
    {
     "name": "stdout",
     "output_type": "stream",
     "text": [
      "do you like tea GurSanjjam?<|endoftext|>do you like tea?\n",
      "[391, 1166, 663, 1013, 1173, 17, 1172, 391, 1166, 663, 1013, 17]\n"
     ]
    }
   ],
   "source": [
    "tokenizer = SimpleTokenizerV1(vocab)\n",
    "text1 = \"do you like tea GurSanjjam?\"\n",
    "text2 = \"do you like tea?\"\n",
    "com_text = \"<|endoftext|>\".join((text1, text2))\n",
    "print(com_text)\n",
    "ids = tokenizer.encode(com_text)\n",
    "print(ids)"
   ]
  },
  {
   "cell_type": "code",
   "execution_count": 16,
   "id": "7dd7c5d7-3aad-4ca7-90fa-70dd06ac9e3f",
   "metadata": {},
   "outputs": [],
   "source": [
    "text = tokenizer.decode(ids)"
   ]
  },
  {
   "cell_type": "code",
   "execution_count": 17,
   "id": "f50a01fc-b7e2-403a-a3d0-f182a327ca5a",
   "metadata": {},
   "outputs": [
    {
     "data": {
      "text/plain": [
       "'do you like tea <|unk|>? <|endoftext|> do you like tea?'"
      ]
     },
     "execution_count": 17,
     "metadata": {},
     "output_type": "execute_result"
    }
   ],
   "source": [
    "text"
   ]
  },
  {
   "cell_type": "code",
   "execution_count": 18,
   "id": "f9eb6d3f-44f3-4631-adfe-e01265b1924d",
   "metadata": {},
   "outputs": [],
   "source": [
    "import tiktoken\n",
    "tokenizer = tiktoken.get_encoding('gpt2')"
   ]
  },
  {
   "cell_type": "markdown",
   "id": "5244a329-c7c7-435c-8a2a-85834f368077",
   "metadata": {},
   "source": [
    "# Creating input target pairs"
   ]
  },
  {
   "cell_type": "code",
   "execution_count": 19,
   "id": "054fa22a-4290-4408-bae8-adc79a262a2b",
   "metadata": {},
   "outputs": [
    {
     "name": "stdout",
     "output_type": "stream",
     "text": [
      "5145\n"
     ]
    }
   ],
   "source": [
    "with open('the-verdict.txt', 'r', encoding = 'utf-8') as f:\n",
    "    raw_text = f.read()\n",
    "\n",
    "enc_text = tokenizer.encode(raw_text)\n",
    "print(len(enc_text))"
   ]
  },
  {
   "cell_type": "code",
   "execution_count": 20,
   "id": "3574ec55-a72c-4d21-be47-ab218c570564",
   "metadata": {},
   "outputs": [
    {
     "name": "stdout",
     "output_type": "stream",
     "text": [
      "x: [40, 367, 2885, 1464]\n",
      "y:     [367, 2885, 1464, 1807]\n"
     ]
    }
   ],
   "source": [
    "context_size = 4\n",
    "x = enc_text[:context_size]\n",
    "y = enc_text[1:context_size+1]\n",
    "\n",
    "print(f\"x: {x}\")\n",
    "print(f\"y:     {y}\")"
   ]
  },
  {
   "cell_type": "code",
   "execution_count": 21,
   "id": "093d2b2b-4025-4614-b9d2-39d609fbb9ef",
   "metadata": {},
   "outputs": [
    {
     "name": "stdout",
     "output_type": "stream",
     "text": [
      "I ---->  H\n",
      "I H ----> AD\n",
      "I HAD ---->  always\n",
      "I HAD always ---->  thought\n"
     ]
    }
   ],
   "source": [
    "for i in range(1,context_size+1):\n",
    "    context = enc_text[:i]\n",
    "    desired = enc_text[i]\n",
    "\n",
    "    print(f\"{tokenizer.decode(context)} ----> {tokenizer.decode([desired])}\")"
   ]
  },
  {
   "cell_type": "markdown",
   "id": "34a603d3-a6ee-42f6-9c64-b8eee472484f",
   "metadata": {},
   "source": [
    "# Implementing a data loader"
   ]
  },
  {
   "cell_type": "code",
   "execution_count": 22,
   "id": "d29ee42b-d381-4e05-9396-aeff446424e5",
   "metadata": {},
   "outputs": [],
   "source": [
    "from torch.utils.data import Dataset, DataLoader"
   ]
  },
  {
   "cell_type": "code",
   "execution_count": 23,
   "id": "50c79ed7-3ce3-4bda-b2b9-2a91c25eeaf0",
   "metadata": {},
   "outputs": [],
   "source": [
    "class GPTDatasetV1(Dataset):\n",
    "    def __init__(self, text, tokenizer, context_size, stride):\n",
    "        self.input_ids = []\n",
    "        self.target_ids = []\n",
    "\n",
    "        token_ids = tokenizer.encode(text, allowed_special ={\"<|endoftext|>\"})\n",
    "\n",
    "        for i in range(0, len(token_ids) - context_size, stride):\n",
    "            input_chunk = token_ids[i: i+context_size]\n",
    "            target_chunk = token_ids[i+1: i+context_size+1]\n",
    "            self.input_ids.append(torch.tensor(input_chunk))\n",
    "            self.target_ids.append(torch.tensor(target_chunk))\n",
    "\n",
    "    def __len__(self):\n",
    "        return len(self.input_ids)\n",
    "\n",
    "    def __getitem__(self, idx):\n",
    "        return self.input_ids[idx], self.target_ids[idx]"
   ]
  },
  {
   "cell_type": "code",
   "execution_count": 24,
   "id": "63eeff69-a95e-4c9d-96c1-e0bfde9e5272",
   "metadata": {},
   "outputs": [],
   "source": [
    "def create_dataloader_v1(text, batch_size = 4, context_size = 256, \n",
    "                         stride = 128, shuffle = True, drop_last = True, \n",
    "                         num_workers = 0):\n",
    "\n",
    "    tokenizer = tiktoken.get_encoding('gpt2')\n",
    "\n",
    "    dataset = GPTDatasetV1(text, tokenizer, context_size, stride)\n",
    "\n",
    "    #create dataloader\n",
    "    dataloader = DataLoader(\n",
    "        dataset,\n",
    "        batch_size = batch_size,\n",
    "        shuffle = shuffle,\n",
    "        drop_last = drop_last,\n",
    "        num_workers = num_workers\n",
    "    )\n",
    "\n",
    "    return dataloader"
   ]
  },
  {
   "cell_type": "code",
   "execution_count": 25,
   "id": "b38db54f-6353-4cb7-8bca-df5ef6865ddb",
   "metadata": {},
   "outputs": [],
   "source": [
    "with open('the-verdict.txt', 'r', encoding = 'utf-8') as f:\n",
    "    raw_text = f.read()"
   ]
  },
  {
   "cell_type": "code",
   "execution_count": 26,
   "id": "80ca7111-c414-4035-99ca-bac5b25b2736",
   "metadata": {},
   "outputs": [
    {
     "name": "stdout",
     "output_type": "stream",
     "text": [
      "[tensor([[  40,  367, 2885, 1464]]), tensor([[ 367, 2885, 1464, 1807]])]\n"
     ]
    }
   ],
   "source": [
    "import torch\n",
    "dataloader = create_dataloader_v1(\n",
    "    raw_text, batch_size = 1, context_size = 4, stride = 1, shuffle = False\n",
    ")\n",
    "\n",
    "data_iter = iter(dataloader)\n",
    "first_batch = next(data_iter)\n",
    "print(first_batch)"
   ]
  },
  {
   "cell_type": "markdown",
   "id": "1cbe7934-6f31-45c3-89a0-2bc3ad8e4a4a",
   "metadata": {},
   "source": [
    "# Implementing a Positional Encoder"
   ]
  },
  {
   "cell_type": "markdown",
   "id": "8780b8b2-abff-4bbe-89c2-28222e3742f0",
   "metadata": {},
   "source": [
    "### we are assuming that the input is the output of the bpe or byte pair encoder."
   ]
  },
  {
   "cell_type": "code",
   "execution_count": 36,
   "id": "f187cc60-efb9-47c0-be1d-0a65d79d3117",
   "metadata": {},
   "outputs": [],
   "source": [
    "import torch.nn as nn"
   ]
  },
  {
   "cell_type": "code",
   "execution_count": 37,
   "id": "b03e721a-b58b-4f63-aef2-b1a2b41d78fc",
   "metadata": {},
   "outputs": [],
   "source": [
    "vocab_size = 1172\n",
    "output_dim = 256\n",
    "\n",
    "token_embedding_layer = nn.Embedding(vocab_size, output_dim)"
   ]
  },
  {
   "cell_type": "markdown",
   "id": "bae7fbd9-5b98-4821-83d9-0d61e7e4c16e",
   "metadata": {},
   "source": [
    "# simple self attention mechanism"
   ]
  },
  {
   "cell_type": "code",
   "execution_count": 38,
   "id": "424bead5-2dda-40e3-b70c-4022486f7dfe",
   "metadata": {},
   "outputs": [],
   "source": [
    "import torch\n",
    "\n",
    "inputs =  torch.tensor([\n",
    "    [0.43, 0.15, 0.89], #Your x1\n",
    "    [0.55, 0.87, 0.66], #journey x2\n",
    "    [0.57, 0.85, 0.64], #starts x3\n",
    "    [0.22, 0.58, 0.33], #with x4\n",
    "    [0.77, 0.25, 0.10], #one x5\n",
    "    [0.05, 0.80, 0.55]  #step x6\n",
    "])"
   ]
  },
  {
   "cell_type": "code",
   "execution_count": 39,
   "id": "97f7dfbc-ef7d-4fda-9d24-052925e57181",
   "metadata": {},
   "outputs": [
    {
     "data": {
      "text/plain": [
       "'query = inputs[1] #2nd input token is the query\\n\\nattn_scores_2 = torch.empty(inputs.shape[0])\\nfor i, x_i in enumerate(inputs):\\n    attn_scores_2[i] = torch.dot(x_i, query) #dot product\\n\\nprint(attn_scores_2)'"
      ]
     },
     "execution_count": 39,
     "metadata": {},
     "output_type": "execute_result"
    }
   ],
   "source": [
    "'''query = inputs[1] #2nd input token is the query\n",
    "\n",
    "attn_scores_2 = torch.empty(inputs.shape[0])\n",
    "for i, x_i in enumerate(inputs):\n",
    "    attn_scores_2[i] = torch.dot(x_i, query) #dot product\n",
    "\n",
    "print(attn_scores_2)'''"
   ]
  },
  {
   "cell_type": "code",
   "execution_count": 40,
   "id": "e43300e7-bcda-48c5-bfee-4fff308c6b9e",
   "metadata": {},
   "outputs": [
    {
     "data": {
      "text/plain": [
       "'\\nattn_weights_2 = torch.softmax(attn_scores_2, dim = 0)\\nprint(\"Attention Weights: \", attn_weights_2)'"
      ]
     },
     "execution_count": 40,
     "metadata": {},
     "output_type": "execute_result"
    }
   ],
   "source": [
    "# normalisation\n",
    "'''\n",
    "attn_weights_2 = torch.softmax(attn_scores_2, dim = 0)\n",
    "print(\"Attention Weights: \", attn_weights_2)'''"
   ]
  },
  {
   "cell_type": "code",
   "execution_count": 41,
   "id": "8fce51eb-6eb7-4347-b467-f33ae70c2e82",
   "metadata": {},
   "outputs": [
    {
     "data": {
      "text/plain": [
       "'context_vec_2 = torch.zeros(query.shape)\\nfor i, x_i in enumerate(inputs):\\n    context_vec_2 += attn_weights_2[i]*x_i\\n\\nprint(context_vec_2)'"
      ]
     },
     "execution_count": 41,
     "metadata": {},
     "output_type": "execute_result"
    }
   ],
   "source": [
    "# context vector\n",
    "\n",
    "'''context_vec_2 = torch.zeros(query.shape)\n",
    "for i, x_i in enumerate(inputs):\n",
    "    context_vec_2 += attn_weights_2[i]*x_i\n",
    "\n",
    "print(context_vec_2)'''"
   ]
  },
  {
   "cell_type": "code",
   "execution_count": 42,
   "id": "2d5d9911-7e1b-4974-9ecc-f2352b734eca",
   "metadata": {},
   "outputs": [
    {
     "name": "stdout",
     "output_type": "stream",
     "text": [
      "tensor([[0.4421, 0.5931, 0.5790],\n",
      "        [0.4419, 0.6515, 0.5683],\n",
      "        [0.4431, 0.6496, 0.5671],\n",
      "        [0.4304, 0.6298, 0.5510],\n",
      "        [0.4671, 0.5910, 0.5266],\n",
      "        [0.4177, 0.6503, 0.5645]])\n"
     ]
    }
   ],
   "source": [
    "attn_scores = inputs @ inputs.T    \n",
    "attn_weights = torch.softmax(attn_scores, dim =-1) #dim -1 means previous dimension i.e. dim of attn_scores\n",
    "context_vector = attn_weights @ inputs\n",
    "print(context_vector)"
   ]
  },
  {
   "cell_type": "markdown",
   "id": "e951ee5c-f353-4047-8f68-0191515d88e7",
   "metadata": {},
   "source": [
    "### Self Attention with trainable weights"
   ]
  },
  {
   "cell_type": "code",
   "execution_count": 74,
   "id": "8c0366d6-13c7-4596-a765-a50aca6adf35",
   "metadata": {},
   "outputs": [],
   "source": [
    "import torch\n",
    "\n",
    "inputs =  torch.tensor([\n",
    "    [0.43, 0.15, 0.89], #Your x1\n",
    "    [0.55, 0.87, 0.66], #journey x2\n",
    "    [0.57, 0.85, 0.64], #starts x3\n",
    "    [0.22, 0.58, 0.33], #with x4\n",
    "    [0.77, 0.25, 0.10], #one x5\n",
    "    [0.05, 0.80, 0.55]  #step x6\n",
    "])"
   ]
  },
  {
   "cell_type": "code",
   "execution_count": 75,
   "id": "bd2dba29-f8eb-4d51-9c44-17023457539b",
   "metadata": {},
   "outputs": [],
   "source": [
    "x_2 = inputs[1]\n",
    "d_in = inputs.shape[1]\n",
    "d_out = 2"
   ]
  },
  {
   "cell_type": "code",
   "execution_count": 76,
   "id": "5335dd9f-5677-4d22-8120-0117722c2ffc",
   "metadata": {},
   "outputs": [],
   "source": [
    "#assigning random values to each parameter as a start\n",
    "W_query = torch.nn.Parameter(torch.rand(d_in, d_out), requires_grad = False)\n",
    "W_key = torch.nn.Parameter(torch.rand(d_in, d_out), requires_grad = False)\n",
    "W_value = torch.nn.Parameter(torch.rand(d_in, d_out), requires_grad = False)"
   ]
  },
  {
   "cell_type": "code",
   "execution_count": 77,
   "id": "1472f763-b956-4f47-a470-cb31ef64701c",
   "metadata": {},
   "outputs": [
    {
     "name": "stdout",
     "output_type": "stream",
     "text": [
      "Parameter containing:\n",
      "tensor([[0.4411, 0.6821],\n",
      "        [0.1414, 0.6950],\n",
      "        [0.1004, 0.3306]])\n"
     ]
    }
   ],
   "source": [
    "print(W_query)"
   ]
  },
  {
   "cell_type": "code",
   "execution_count": 78,
   "id": "f1e22f4d-7e12-4ad5-be0e-8ddf65d29dc3",
   "metadata": {},
   "outputs": [],
   "source": [
    "#creating Q,K,V matrices\n",
    "queries = inputs @ W_query\n",
    "key = inputs @ W_key\n",
    "value = inputs @ W_value"
   ]
  },
  {
   "cell_type": "code",
   "execution_count": 79,
   "id": "90aa0ee2-58ec-4538-b4da-38292c15d290",
   "metadata": {},
   "outputs": [
    {
     "name": "stdout",
     "output_type": "stream",
     "text": [
      "tensor([[0.3003, 0.6917],\n",
      "        [0.4319, 1.1979],\n",
      "        [0.4359, 1.1911],\n",
      "        [0.2122, 0.6622],\n",
      "        [0.3851, 0.7320],\n",
      "        [0.1904, 0.7719]])\n"
     ]
    }
   ],
   "source": [
    "print(queries)"
   ]
  },
  {
   "cell_type": "code",
   "execution_count": 80,
   "id": "56bbe93f-0f79-4c53-b49f-1364c472b573",
   "metadata": {},
   "outputs": [
    {
     "name": "stdout",
     "output_type": "stream",
     "text": [
      "tensor([[0.7198, 0.9995, 0.9943, 0.5280, 0.6225, 0.6148],\n",
      "        [1.2187, 1.6865, 1.6783, 0.8890, 1.0586, 1.0314],\n",
      "        [1.2138, 1.6801, 1.6719, 0.8858, 1.0539, 1.0279],\n",
      "        [0.6653, 0.9189, 0.9146, 0.4838, 0.5793, 0.5601],\n",
      "        [0.7828, 1.0915, 1.0856, 0.5781, 0.6735, 0.6761],\n",
      "        [0.7576, 1.0424, 1.0378, 0.5475, 0.6627, 0.6313]])\n"
     ]
    }
   ],
   "source": [
    "# since we now have the matrices, we can calculate attention scores for each query\n",
    "# for which we dot product the eg. query[1] @ key matrix\n",
    "attn_score = queries @ key.T\n",
    "print(attn_score)"
   ]
  },
  {
   "cell_type": "code",
   "execution_count": 81,
   "id": "dc5881b5-f99c-4721-9c0f-fc8f5acc3632",
   "metadata": {},
   "outputs": [
    {
     "name": "stdout",
     "output_type": "stream",
     "text": [
      "tensor([[0.1621, 0.1976, 0.1969, 0.1416, 0.1513, 0.1505],\n",
      "        [0.1578, 0.2197, 0.2184, 0.1250, 0.1409, 0.1382],\n",
      "        [0.1578, 0.2195, 0.2182, 0.1252, 0.1410, 0.1384],\n",
      "        [0.1629, 0.1949, 0.1943, 0.1433, 0.1533, 0.1512],\n",
      "        [0.1613, 0.2006, 0.1998, 0.1395, 0.1493, 0.1495],\n",
      "        [0.1625, 0.1988, 0.1981, 0.1401, 0.1520, 0.1486]]) 2\n"
     ]
    }
   ],
   "source": [
    "#we now calc attn_weights by appyling softmax on attn_score scaled down to underoot(dim_keys)\n",
    "dim_keys = key.shape[-1]\n",
    "attn_weights = torch.softmax(attn_score/dim_keys**0.5, dim = -1)\n",
    "print(attn_weights, dim_keys)"
   ]
  },
  {
   "cell_type": "markdown",
   "id": "1e536251-8ee2-4b76-9ca2-e160ec88647c",
   "metadata": {},
   "source": [
    "# Implementing a simple python class for self attention "
   ]
  },
  {
   "cell_type": "code",
   "execution_count": 82,
   "id": "f54593e7-2ed2-45ff-9e4a-23b58fccaa28",
   "metadata": {},
   "outputs": [],
   "source": [
    "import torch\n",
    "\n",
    "inputs =  torch.tensor([\n",
    "    [0.43, 0.15, 0.89], #Your x1\n",
    "    [0.55, 0.87, 0.66], #journey x2\n",
    "    [0.57, 0.85, 0.64], #starts x3\n",
    "    [0.22, 0.58, 0.33], #with x4\n",
    "    [0.77, 0.25, 0.10], #one x5\n",
    "    [0.05, 0.80, 0.55]  #step x6\n",
    "])"
   ]
  },
  {
   "cell_type": "code",
   "execution_count": 83,
   "id": "ff7282b8-19ed-4075-91a0-7cf193b05f23",
   "metadata": {},
   "outputs": [],
   "source": [
    "import torch.nn as nn\n",
    "\n",
    "class SelfAttentionV2(nn.Module):\n",
    "    def __init__(self, d_in, d_out):\n",
    "        super().__init__()\n",
    "        self.W_query = nn.Linear(d_in, d_out)\n",
    "        self.W_key = nn.Linear(d_in, d_out)\n",
    "        self.W_value = nn.Linear(d_in, d_out)\n",
    "\n",
    "    def forward(self, x):\n",
    "        query = self.W_query(x)\n",
    "        key = self.W_key(x)\n",
    "        value = self.W_value(x)\n",
    "\n",
    "        attn_score = query @ key.transpose(-2,-1)\n",
    "        attn_weight = torch.softmax(attn_score / key.shape[-1]**0.5, dim = -1)\n",
    "\n",
    "        context_vec = attn_weight @ value\n",
    "        return context_vec"
   ]
  },
  {
   "cell_type": "code",
   "execution_count": 84,
   "id": "7c1fcace-67da-45d4-9ef8-6804ef0f49b1",
   "metadata": {},
   "outputs": [
    {
     "name": "stdout",
     "output_type": "stream",
     "text": [
      "tensor([[ 0.3684,  0.0559, -0.1986,  0.1970, -0.0378, -0.5136],\n",
      "        [ 0.3655,  0.0521, -0.1989,  0.1917, -0.0344, -0.5117],\n",
      "        [ 0.3654,  0.0520, -0.1989,  0.1916, -0.0344, -0.5118],\n",
      "        [ 0.3661,  0.0530, -0.2030,  0.1943, -0.0347, -0.5167],\n",
      "        [ 0.3643,  0.0508, -0.2010,  0.1917, -0.0342, -0.5163],\n",
      "        [ 0.3668,  0.0540, -0.2028,  0.1949, -0.0350, -0.5154]],\n",
      "       grad_fn=<MmBackward0>)\n"
     ]
    }
   ],
   "source": [
    "sa_v2 = SelfAttentionV2(3,6)\n",
    "print(sa_v2(inputs))"
   ]
  },
  {
   "cell_type": "markdown",
   "id": "f4383fc3-19dd-4b97-989d-9165d2e5bb93",
   "metadata": {},
   "source": [
    "# hiding future words with masked attention"
   ]
  },
  {
   "cell_type": "code",
   "execution_count": 85,
   "id": "c77d1a8e-9aea-4635-9ea2-6ff58359be36",
   "metadata": {},
   "outputs": [],
   "source": [
    "context_length = attn_score.shape[0]\n",
    "lower_triangular = torch.tril(torch.ones(context_length, context_length))"
   ]
  },
  {
   "cell_type": "code",
   "execution_count": 86,
   "id": "40042ee3-97d8-4e63-a456-cf9bd044c296",
   "metadata": {},
   "outputs": [
    {
     "name": "stdout",
     "output_type": "stream",
     "text": [
      "tensor([[1., 0., 0., 0., 0., 0.],\n",
      "        [1., 1., 0., 0., 0., 0.],\n",
      "        [1., 1., 1., 0., 0., 0.],\n",
      "        [1., 1., 1., 1., 0., 0.],\n",
      "        [1., 1., 1., 1., 1., 0.],\n",
      "        [1., 1., 1., 1., 1., 1.]])\n"
     ]
    }
   ],
   "source": [
    "print(lower_triangular)"
   ]
  },
  {
   "cell_type": "code",
   "execution_count": 87,
   "id": "9d25d9a8-aa97-4905-bd6e-7c81411ed0c4",
   "metadata": {},
   "outputs": [
    {
     "name": "stdout",
     "output_type": "stream",
     "text": [
      "tensor([[0.1621, 0.0000, 0.0000, 0.0000, 0.0000, 0.0000],\n",
      "        [0.1578, 0.2197, 0.0000, 0.0000, 0.0000, 0.0000],\n",
      "        [0.1578, 0.2195, 0.2182, 0.0000, 0.0000, 0.0000],\n",
      "        [0.1629, 0.1949, 0.1943, 0.1433, 0.0000, 0.0000],\n",
      "        [0.1613, 0.2006, 0.1998, 0.1395, 0.1493, 0.0000],\n",
      "        [0.1625, 0.1988, 0.1981, 0.1401, 0.1520, 0.1486]])\n"
     ]
    }
   ],
   "source": [
    "masked_simple = attn_weights * mask_simple\n",
    "print(masked_simple)"
   ]
  },
  {
   "cell_type": "code",
   "execution_count": 88,
   "id": "551df57b-049d-44a7-bc6a-31e7e2503c00",
   "metadata": {},
   "outputs": [
    {
     "name": "stdout",
     "output_type": "stream",
     "text": [
      "tensor([[0.1621],\n",
      "        [0.3775],\n",
      "        [0.5955],\n",
      "        [0.6955],\n",
      "        [0.8505],\n",
      "        [1.0000]])\n"
     ]
    }
   ],
   "source": [
    "row_sum = masked_simple.sum(dim = 1, keepdim = True)\n",
    "print(row_sum)"
   ]
  },
  {
   "cell_type": "code",
   "execution_count": 89,
   "id": "2bdda156-e10e-4642-9ac0-9f104af0d695",
   "metadata": {},
   "outputs": [
    {
     "name": "stdout",
     "output_type": "stream",
     "text": [
      "tensor([[1.0000, 0.0000, 0.0000, 0.0000, 0.0000, 0.0000],\n",
      "        [0.4181, 0.5819, 0.0000, 0.0000, 0.0000, 0.0000],\n",
      "        [0.2650, 0.3685, 0.3664, 0.0000, 0.0000, 0.0000],\n",
      "        [0.2343, 0.2803, 0.2794, 0.2060, 0.0000, 0.0000],\n",
      "        [0.1896, 0.2359, 0.2349, 0.1641, 0.1755, 0.0000],\n",
      "        [0.1625, 0.1988, 0.1981, 0.1401, 0.1520, 0.1486]])\n"
     ]
    }
   ],
   "source": [
    "normalised_masked = masked_simple / row_sum\n",
    "print(normalised_masked)"
   ]
  },
  {
   "cell_type": "markdown",
   "id": "542de819-771b-4235-9e8f-9644e5344d84",
   "metadata": {},
   "source": [
    "## creating a better matrix, preventing data leakage"
   ]
  },
  {
   "cell_type": "code",
   "execution_count": 96,
   "id": "a5bde963-d6e0-46ff-b7a6-d12130983584",
   "metadata": {},
   "outputs": [],
   "source": [
    "upper_triangular = torch.triu(torch.ones(context_length, context_length), diagonal = 1) #diagonal shifted by 1\n",
    "masked = attn_scores.masked_fill(upper_triangular.bool(), -torch.inf)"
   ]
  },
  {
   "cell_type": "code",
   "execution_count": 97,
   "id": "2593943d-96c6-47e1-8db2-982e698a99b2",
   "metadata": {},
   "outputs": [
    {
     "name": "stdout",
     "output_type": "stream",
     "text": [
      "tensor([[0.9995,   -inf,   -inf,   -inf,   -inf,   -inf],\n",
      "        [0.9544, 1.4950,   -inf,   -inf,   -inf,   -inf],\n",
      "        [0.9422, 1.4754, 1.4570,   -inf,   -inf,   -inf],\n",
      "        [0.4753, 0.8434, 0.8296, 0.4937,   -inf,   -inf],\n",
      "        [0.4576, 0.7070, 0.7154, 0.3474, 0.6654,   -inf],\n",
      "        [0.6310, 1.0865, 1.0605, 0.6565, 0.2935, 0.9450]])\n"
     ]
    }
   ],
   "source": [
    "print(masked)"
   ]
  },
  {
   "cell_type": "code",
   "execution_count": 98,
   "id": "eb639e44-3dea-4567-b733-34066dd34391",
   "metadata": {},
   "outputs": [],
   "source": [
    "attn_weights = torch.softmax(masked / key.shape[-1]**0.5, dim = 1)"
   ]
  },
  {
   "cell_type": "code",
   "execution_count": 100,
   "id": "4b9e9cdd-108f-4324-ba75-43c20504b529",
   "metadata": {},
   "outputs": [
    {
     "name": "stdout",
     "output_type": "stream",
     "text": [
      "tensor([[1.0000, 0.0000, 0.0000, 0.0000, 0.0000, 0.0000],\n",
      "        [0.4056, 0.5944, 0.0000, 0.0000, 0.0000, 0.0000],\n",
      "        [0.2566, 0.3741, 0.3693, 0.0000, 0.0000, 0.0000],\n",
      "        [0.2176, 0.2823, 0.2796, 0.2205, 0.0000, 0.0000],\n",
      "        [0.1826, 0.2178, 0.2191, 0.1689, 0.2115, 0.0000],\n",
      "        [0.1473, 0.2033, 0.1996, 0.1500, 0.1160, 0.1839]])\n"
     ]
    }
   ],
   "source": [
    "print(attn_weights)"
   ]
  },
  {
   "cell_type": "markdown",
   "id": "c4137de6-fad5-4cdf-ae9d-a4dfe95231dc",
   "metadata": {},
   "source": [
    "## CAUSAL ATTENTION CLASS"
   ]
  },
  {
   "cell_type": "code",
   "execution_count": 18,
   "id": "8f527ef7-889a-4f5c-bdf1-294e503c1708",
   "metadata": {},
   "outputs": [],
   "source": [
    "import torch.nn as nn\n",
    "class CausalAttention(nn.Module):\n",
    "\n",
    "    def __init__(self, d_in, d_out, context_length, dropout, qkv_bias = False):\n",
    "        super().__init__()\n",
    "        self.d_out = d_out\n",
    "        self.W_query = nn.Linear(d_in, d_out, bias = qkv_bias)   #takes input_dimension -> converts Linear matrix into out_dimension\n",
    "        self.W_key = nn.Linear(d_in, d_out, bias = qkv_bias)     #here bias is qkv_bias but qkv_bias is set to false\n",
    "        self.W_value = nn.Linear(d_in, d_out, bias = qkv_bias)\n",
    "        self.dropout = nn.Dropout(dropout)                       #dropout parameter value decides what % of hidden nodes\n",
    "        self.register_buffer('mask', torch.triu(torch.ones(context_length, context_length), diagonal = -1))\n",
    "\n",
    "    def forward(self, x):\n",
    "        batch_size, num_tokens, input_dim = x.shape\n",
    "\n",
    "        #creating weighted matrices of Q,K,V\n",
    "        keys = self.W_key(x)\n",
    "        queries = self.W_query(x)\n",
    "        values = self.W_value(x)\n",
    "\n",
    "        #calculating attention scores\n",
    "        attention_scores = queries @ keys.transpose(1,2)     #we dont want to transpose the batch size\n",
    "        attention_scores.masked_fill_( \n",
    "            self.mask[:num_tokens, :num_tokens].bool(), -torch.inf    #add !(∞)\n",
    "        )\n",
    "\n",
    "        #calculating attention weights\n",
    "        attention_weights = torch.softmax(\n",
    "            attention_scores / keys.shape[-1]**0.5, dim = -1    #shape[-1] is input_dimension, dim -1 means->shape it as last shape of mat\n",
    "        )\n",
    "        attention_weights = self.dropout(attention_weights)\n",
    "\n",
    "        #context vector\n",
    "        context_vector = attention_weights @ values\n",
    "        return context_vector"
   ]
  },
  {
   "cell_type": "code",
   "execution_count": 19,
   "id": "d64692e8-a120-43b4-885d-75e60be50b5c",
   "metadata": {},
   "outputs": [],
   "source": [
    "batch = torch.stack((inputs, inputs), dim = 0)"
   ]
  },
  {
   "cell_type": "code",
   "execution_count": 20,
   "id": "660e4f17-eaef-45c6-9eb7-80affe00d602",
   "metadata": {},
   "outputs": [
    {
     "name": "stdout",
     "output_type": "stream",
     "text": [
      "tensor([[[    nan,     nan],\n",
      "         [    nan,     nan],\n",
      "         [-0.4519,  0.2216],\n",
      "         [-0.5857,  0.0086],\n",
      "         [-0.6281, -0.0602],\n",
      "         [-0.5678, -0.0850]],\n",
      "\n",
      "        [[    nan,     nan],\n",
      "         [    nan,     nan],\n",
      "         [-0.4519,  0.2216],\n",
      "         [-0.5857,  0.0086],\n",
      "         [-0.6281, -0.0602],\n",
      "         [-0.5678, -0.0850]]], grad_fn=<UnsafeViewBackward0>)\n"
     ]
    }
   ],
   "source": [
    "context_length = batch.shape[1]\n",
    "ca = CausalAttention(d_in, d_out, context_length, 0)\n",
    "context_vecs = ca(batch)\n",
    "print(context_vecs)"
   ]
  },
  {
   "cell_type": "markdown",
   "id": "dba42869-70d7-44b3-844d-61df93f19050",
   "metadata": {},
   "source": [
    "# linear multi head attention ineffiecient technique"
   ]
  },
  {
   "cell_type": "code",
   "execution_count": 44,
   "id": "ba76f5a3-58cb-486a-a97a-436c0b67bd97",
   "metadata": {},
   "outputs": [],
   "source": [
    "import torch\n",
    "import torch.nn as nn\n",
    "class MultiHeadAttention(nn.Module):\n",
    "    def __init__(self, d_in, d_out, context_length, dropout, num_heads, qkv_bias = False):\n",
    "        super().__init__()\n",
    "        self.heads = nn.ModuleList(\n",
    "            [CausalAttention(d_in, d_out, context_length, dropout, qkv_bias = False) \n",
    "            for _ in range(num_heads)]   #creating as many instances as the number of heads\n",
    "        )\n",
    "\n",
    "    def forward(self, x):\n",
    "        return torch.cat([head(x) for head in self.heads], dim = -1)    #concatenating the heads along the columns"
   ]
  },
  {
   "cell_type": "code",
   "execution_count": 45,
   "id": "62125062-e6cb-49e1-8ece-434c8803b719",
   "metadata": {},
   "outputs": [
    {
     "name": "stdout",
     "output_type": "stream",
     "text": [
      "tensor([[[0.4300, 0.1500, 0.8900],\n",
      "         [0.5500, 0.8700, 0.6600],\n",
      "         [0.5700, 0.8500, 0.6400],\n",
      "         [0.2200, 0.5800, 0.3300],\n",
      "         [0.7700, 0.2500, 0.1000],\n",
      "         [0.0500, 0.8000, 0.5500]],\n",
      "\n",
      "        [[0.4300, 0.1500, 0.8900],\n",
      "         [0.5500, 0.8700, 0.6600],\n",
      "         [0.5700, 0.8500, 0.6400],\n",
      "         [0.2200, 0.5800, 0.3300],\n",
      "         [0.7700, 0.2500, 0.1000],\n",
      "         [0.0500, 0.8000, 0.5500]]])\n"
     ]
    }
   ],
   "source": [
    "inputs =  torch.tensor([\n",
    "    [0.43, 0.15, 0.89], #Your x1\n",
    "    [0.55, 0.87, 0.66], #journey x2\n",
    "    [0.57, 0.85, 0.64], #starts x3\n",
    "    [0.22, 0.58, 0.33], #with x4\n",
    "    [0.77, 0.25, 0.10], #one x5\n",
    "    [0.05, 0.80, 0.55]  #step x6\n",
    "])\n",
    "batch = torch.stack((inputs, inputs), dim = 0)\n",
    "print(batch)"
   ]
  },
  {
   "cell_type": "code",
   "execution_count": 46,
   "id": "a843c435-fb71-4773-aba9-e153a35fbffe",
   "metadata": {},
   "outputs": [
    {
     "name": "stdout",
     "output_type": "stream",
     "text": [
      "tensor([[[    nan,     nan,     nan,     nan],\n",
      "         [    nan,     nan,     nan,     nan],\n",
      "         [-0.4519,  0.2216,  0.4772,  0.1063],\n",
      "         [-0.5857,  0.0086,  0.5836,  0.3149],\n",
      "         [-0.6281, -0.0602,  0.6129,  0.3716],\n",
      "         [-0.5678, -0.0850,  0.5487,  0.3626]],\n",
      "\n",
      "        [[    nan,     nan,     nan,     nan],\n",
      "         [    nan,     nan,     nan,     nan],\n",
      "         [-0.4519,  0.2216,  0.4772,  0.1063],\n",
      "         [-0.5857,  0.0086,  0.5836,  0.3149],\n",
      "         [-0.6281, -0.0602,  0.6129,  0.3716],\n",
      "         [-0.5678, -0.0850,  0.5487,  0.3626]]], grad_fn=<CatBackward0>)\n",
      "context vector shape =  torch.Size([2, 6, 4])\n"
     ]
    }
   ],
   "source": [
    "torch.manual_seed(123)\n",
    "context_length = batch.shape[1]\n",
    "d_in, d_out = 3 , 2\n",
    "mha = MultiHeadAttention(d_in, d_out, context_length, 0.0, num_heads = 2)\n",
    "context_vec = mha(batch)\n",
    "print(context_vec)\n",
    "print(\"context vector shape = \", context_vec.shape)"
   ]
  },
  {
   "cell_type": "code",
   "execution_count": 47,
   "id": "fa27292a-606b-4af8-9a7b-e7406ce0dd70",
   "metadata": {},
   "outputs": [
    {
     "name": "stdout",
     "output_type": "stream",
     "text": [
      "tensor([[[    nan,     nan,     nan,     nan,     nan,     nan],\n",
      "         [    nan,     nan,     nan,     nan,     nan,     nan],\n",
      "         [-0.4519,  0.2216,  0.4772,  0.1063,  0.4566,  0.2729],\n",
      "         [-0.5857,  0.0086,  0.5836,  0.3149,  0.5852,  0.3024],\n",
      "         [-0.6281, -0.0602,  0.6129,  0.3716,  0.6278,  0.3108],\n",
      "         [-0.5678, -0.0850,  0.5487,  0.3626,  0.5687,  0.2784]],\n",
      "\n",
      "        [[    nan,     nan,     nan,     nan,     nan,     nan],\n",
      "         [    nan,     nan,     nan,     nan,     nan,     nan],\n",
      "         [-0.4519,  0.2216,  0.4772,  0.1063,  0.4566,  0.2729],\n",
      "         [-0.5857,  0.0086,  0.5836,  0.3149,  0.5852,  0.3024],\n",
      "         [-0.6281, -0.0602,  0.6129,  0.3716,  0.6278,  0.3108],\n",
      "         [-0.5678, -0.0850,  0.5487,  0.3626,  0.5687,  0.2784]]],\n",
      "       grad_fn=<CatBackward0>)\n",
      "context vector shape =  torch.Size([2, 6, 6])\n"
     ]
    }
   ],
   "source": [
    "torch.manual_seed(123)\n",
    "context_length = batch.shape[1]\n",
    "d_in, d_out = 3 , 2\n",
    "mha = MultiHeadAttention(d_in, d_out, context_length, 0.0, num_heads = 3)\n",
    "context_vec = mha(batch)\n",
    "print(context_vec)\n",
    "print(\"context vector shape = \", context_vec.shape)"
   ]
  },
  {
   "cell_type": "markdown",
   "id": "379a8129-ad27-451f-bcb1-0fc249d5341d",
   "metadata": {},
   "source": [
    "# creating a multi head attention class and causal attention into a single class"
   ]
  },
  {
   "cell_type": "code",
   "execution_count": 50,
   "id": "80d6d1de-ae11-4910-8219-6fa5a3774226",
   "metadata": {},
   "outputs": [],
   "source": [
    "# reshapes the projected tensors and combines the result after computing attention\n",
    "import torch\n",
    "import torch.nn as nn"
   ]
  },
  {
   "cell_type": "code",
   "execution_count": null,
   "id": "712f5ba1-f9d2-417b-9749-849dd6f2ef03",
   "metadata": {},
   "outputs": [],
   "source": [
    "class MultiHeadAttention(nn.Module):\n",
    "    def __init__(d_in, d_out, context_length, dropout, num_heads, bias = False):\n",
    "        super().__init__()\n",
    "        self.d_out = d_out\n",
    "        self.num_heads = num_heads\n",
    "        self.head_dim = d_out / num_heads   #reduce projection dim to match the desired output_dim\n",
    "\n",
    "\n",
    "        self.W_query = nn.Linear(d_in, d_out, bias = qkv_bias)\n",
    "        self.W_key = nn.Linear(d_in, d_out, bias = qkv_bias)\n",
    "        self.W_vaue = nn.Linear(d_in, d_out, bias = qkv_bias)\n",
    "    \n",
    "    def forward(self, x):\n",
    "        b, num_tokens, d_in = x.shape\n",
    "\n",
    "        keys = self.W_keys(x)\n",
    "        queries = self.W_queries(x)\n",
    "        values = self.W_values(x)\n",
    "\n",
    "        keys = keys.view(b, num_tokens, num_heads, head_dim)\n",
    "        queries = keys.queries(b, num_tokens, num_heads, head_dim)\n",
    "        values = keys.values(b, num_tokens, num_heads, head_dim)\n",
    "\n",
    "        keys = keys.transpose(1,2)\n",
    "        queries = queries.transpose(1,2)\n",
    "        values = values.tranpose(1,2)"
   ]
  }
 ],
 "metadata": {
  "kernelspec": {
   "display_name": "Python 3 (ipykernel)",
   "language": "python",
   "name": "python3"
  },
  "language_info": {
   "codemirror_mode": {
    "name": "ipython",
    "version": 3
   },
   "file_extension": ".py",
   "mimetype": "text/x-python",
   "name": "python",
   "nbconvert_exporter": "python",
   "pygments_lexer": "ipython3",
   "version": "3.12.7"
  }
 },
 "nbformat": 4,
 "nbformat_minor": 5
}
