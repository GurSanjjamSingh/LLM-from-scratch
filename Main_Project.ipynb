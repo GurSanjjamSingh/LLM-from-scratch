{
 "cells": [
  {
   "cell_type": "code",
   "execution_count": 19,
   "id": "f591d0ff-617d-4b66-a2b6-d88c0e571a57",
   "metadata": {},
   "outputs": [],
   "source": [
    "import tiktoken\n",
    "import torch\n",
    "from torch.utils.data import Dataset, DataLoader\n",
    "import torch\n",
    "import torch.nn as nn"
   ]
  },
  {
   "cell_type": "code",
   "execution_count": 20,
   "id": "9e459926-59a8-4ba2-946b-d8cc4ea3476a",
   "metadata": {},
   "outputs": [],
   "source": [
    "#opening text files\n",
    "\n",
    "with open('the-verdict.txt', 'r', encoding = 'utf-8') as f:\n",
    "    raw_text1 = f.read()\n",
    "\n",
    "with open('HarryPotter.txt', 'r', encoding = 'utf-8') as f:\n",
    "    raw_text2 = f.read()\n",
    "\n",
    "raw_text = raw_text1 + raw_text2"
   ]
  },
  {
   "cell_type": "code",
   "execution_count": 21,
   "id": "798d96e0-6a09-48a4-a548-d64c2436aeaf",
   "metadata": {},
   "outputs": [
    {
     "name": "stdout",
     "output_type": "stream",
     "text": [
      "50257\n",
      "Total tokens in dataset: 1561606\n"
     ]
    }
   ],
   "source": [
    "#byte-pair encoder\n",
    "\n",
    "tokenizer = tiktoken.get_encoding('gpt2')\n",
    "token_ids = tokenizer.encode(raw_text)\n",
    "decoded = tokenizer.decode(token_ids)\n",
    "vocab_size = tokenizer.n_vocab\n",
    "\n",
    "print(vocab_size)\n",
    "print(\"Total tokens in dataset:\", len(token_ids))"
   ]
  },
  {
   "cell_type": "code",
   "execution_count": 27,
   "id": "caf62c62-168f-4d6d-b688-2232a46c85fb",
   "metadata": {},
   "outputs": [],
   "source": [
    "#input-target pairs\n",
    "\n",
    "context_size = 256\n",
    "class GPTDatasetV1(Dataset):\n",
    "    def __init__(self, token_ids, max_length, stride):\n",
    "        self.input_ids = []\n",
    "        self.target_ids = []\n",
    "\n",
    "        for i in range(0, len(token_ids) - max_length, stride):\n",
    "            input_chunk = token_ids[i : i + max_length]\n",
    "            target_chunk = token_ids[i + 1 : i + max_length + 1]\n",
    "\n",
    "            self.input_ids.append(torch.tensor(input_chunk))\n",
    "            self.target_ids.append(torch.tensor(target_chunk))\n",
    "\n",
    "    def __len__(self):\n",
    "        return len(self.input_ids)\n",
    "\n",
    "    def __getitem__(self, idx):\n",
    "        return self.input_ids[idx], self.target_ids[idx]"
   ]
  },
  {
   "cell_type": "code",
   "execution_count": 28,
   "id": "a3b43073-582b-4b47-a7ca-e2d2aee2eca5",
   "metadata": {},
   "outputs": [],
   "source": [
    "dataset = GPTDatasetV1(token_ids, max_length=256, stride=128)"
   ]
  },
  {
   "cell_type": "code",
   "execution_count": 29,
   "id": "4dc28c78-c8a9-4c76-a882-22d125510a85",
   "metadata": {},
   "outputs": [],
   "source": [
    "def create_dataloader_v1(token_ids, batch_size=4, context_size=256, \n",
    "                         stride=128, shuffle=True, drop_last=True, \n",
    "                         num_workers=0):\n",
    "    dataset = GPTDatasetV1(token_ids, max_length=context_size, stride=stride)\n",
    "\n",
    "    dataloader = DataLoader(\n",
    "        dataset,\n",
    "        batch_size=batch_size,\n",
    "        shuffle=shuffle,\n",
    "        drop_last=drop_last,\n",
    "        num_workers=num_workers\n",
    "    )\n",
    "\n",
    "    return dataloader"
   ]
  },
  {
   "cell_type": "code",
   "execution_count": 30,
   "id": "5523253d-4548-42bd-864d-157b9d784e61",
   "metadata": {},
   "outputs": [],
   "source": [
    "#intializing dataloader\n",
    "\n",
    "dataloader = create_dataloader_v1(token_ids)\n",
    "#initializing token embedding\n",
    "embedding_dim = 256\n",
    "vocab_size = 50257\n",
    "token_embedding = nn.Embedding(vocab_size, embedding_dim)"
   ]
  },
  {
   "cell_type": "code",
   "execution_count": 31,
   "id": "8c6e8091-523d-48c7-b94b-96df728299d4",
   "metadata": {},
   "outputs": [
    {
     "name": "stdout",
     "output_type": "stream",
     "text": [
      "torch.Size([256, 256])\n"
     ]
    }
   ],
   "source": [
    "#positonal embedding\n",
    "\n",
    "pos_embedding_layer = nn.Embedding(context_size, embedding_dim)\n",
    "positions = torch.arange(context_size)\n",
    "pos_embeddings = pos_embedding_layer(positions)\n",
    "\n",
    "print(pos_embeddings.shape)  # Should print: torch.Size([256, 256])"
   ]
  },
  {
   "cell_type": "code",
   "execution_count": 39,
   "id": "d6b3dbcf-fdb7-4958-84b6-0d4c74606e1f",
   "metadata": {},
   "outputs": [],
   "source": [
    "#input embedding\n",
    "\n",
    "for input_ids, target_ids in dataloader:\n",
    "    token_embeds = token_embedding(input_ids)  \n",
    "\n",
    "    positions = torch.arange(context_size).to(input_ids.device) \n",
    "    pos_embeds = pos_embedding_layer(positions)                  \n",
    "    pos_embeds = pos_embeds.unsqueeze(0).expand_as(token_embeds)  \n",
    "\n",
    "    final_input = token_embeds + pos_embeds                      \n",
    "    break"
   ]
  },
  {
   "cell_type": "code",
   "execution_count": null,
   "id": "979f0d25-7488-4817-9bf2-a7836cec2027",
   "metadata": {},
   "outputs": [],
   "source": []
  }
 ],
 "metadata": {
  "kernelspec": {
   "display_name": "Python 3 (ipykernel)",
   "language": "python",
   "name": "python3"
  },
  "language_info": {
   "codemirror_mode": {
    "name": "ipython",
    "version": 3
   },
   "file_extension": ".py",
   "mimetype": "text/x-python",
   "name": "python",
   "nbconvert_exporter": "python",
   "pygments_lexer": "ipython3",
   "version": "3.12.7"
  }
 },
 "nbformat": 4,
 "nbformat_minor": 5
}
